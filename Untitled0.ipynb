{
  "nbformat": 4,
  "nbformat_minor": 0,
  "metadata": {
    "colab": {
      "provenance": [],
      "authorship_tag": "ABX9TyPcxmPDs4RYErZbRIAkkPud",
      "include_colab_link": true
    },
    "kernelspec": {
      "name": "python3",
      "display_name": "Python 3"
    },
    "language_info": {
      "name": "python"
    }
  },
  "cells": [
    {
      "cell_type": "markdown",
      "metadata": {
        "id": "view-in-github",
        "colab_type": "text"
      },
      "source": [
        "<a href=\"https://colab.research.google.com/github/loxi25/diccionario/blob/main/Untitled0.ipynb\" target=\"_parent\"><img src=\"https://colab.research.google.com/assets/colab-badge.svg\" alt=\"Open In Colab\"/></a>"
      ]
    },
    {
      "cell_type": "markdown",
      "source": [
        "# diccionarios\n",
        "- son estrucutras , es decir referencia a una coleccion de datos\n",
        "- son una oleccion desordenada de pares de datos de la forma clave : valor, conocidos como elementos o items\n",
        "- son mutables por tanto una vez indefinido un diccionario se le pueden agregar nuevos elementos , modficiar o eliminar algunos de los que ya tiene .\n",
        "- tambien se les conoce como mapa de hash o arreglos asociativos\n",
        "- en python los diccionarios son de tipo dict y se utilizan la siguiente sintaxis para crear una nueva variable de este tipo:\n",
        "nombre dit ={clave1:valor1, clave2:valor2,,,,`}\n",
        "\n",
        "- cada item o elemento tiene la forma clave:valor\n",
        "- en cada item hay una clave y uno o mas valores .si se desconoce el valor se puede llenar con` none `\n",
        "\n",
        "- los elemntos del diccionario se indexan por la clave.\n",
        "\n",
        "- las claves solo pueden ser datos iinmutables.\n",
        "- las claves no pueden repetirse dentro de un diccionario"
      ],
      "metadata": {
        "id": "WfccRXyKpkGa"
      }
    },
    {
      "cell_type": "code",
      "execution_count": null,
      "metadata": {
        "colab": {
          "base_uri": "https://localhost:8080/"
        },
        "id": "WnH125QOpbTI",
        "outputId": "8244681b-d4cc-4969-d311-9c86f8af5de3"
      },
      "outputs": [
        {
          "output_type": "stream",
          "name": "stdout",
          "text": [
            "{1: 'enero', 2: 'febrero', 3: 'marzo', 4: 'abril', 5: 'mayo', 6: 'junio', 7: 'julio', 8: 'agosto', 9: 'septiembre', 10: 'octubre', 11: 'noviembre', 12: 'diciembre'}\n",
            "{'enero': 1, 'febrero': 2, 'marzo': 3, 'abril': 4, 'mayo': 5, 'junio': 6, 'julio': 7, 'agosto': 8, 'septiembre': 9, 'octubre': 10, 'noviembre': 11, 'diciembre': 12}\n",
            "{'manzana': 34, 'pera': 45, 'uva': 23}\n",
            "{'manzana': 34, 'pera': 45, 'uva': 23, 'cereza': 90}\n",
            "{'manzana': 34, 'pera': 45, 'uva': 23, 'cereza': 100}\n",
            "{'manzana': 34, 'pera': 45, 'uva': 23}\n",
            "el valor de manzana es : ' frutas['manzana\n"
          ]
        }
      ],
      "source": [
        "# diccionario con clave tipo cadena\n",
        "\n",
        "num_meses = {1:'enero', 2:'febrero', 3:'marzo', 4:'abril', 5:'mayo', 6:'junio', 7:'julio', 8:'agosto', 9:'septiembre', 10:'octubre', 11:'noviembre', 12:'diciembre'}\n",
        "print(num_meses)\n",
        "\n",
        "nombre_meses = {'enero':1, 'febrero':2, 'marzo':3, 'abril':4, 'mayo':5, 'junio':6, 'julio':7, 'agosto':8, 'septiembre':9, 'octubre':10, 'noviembre':11, 'diciembre':12}\n",
        "print(nombre_meses)\n",
        "\n",
        "frutas = {'manzana':34 , 'pera':45, 'uva':23}\n",
        "print(frutas)\n",
        "\n",
        "# agregar elemento\n",
        "frutas['cereza'] = 90\n",
        "print(frutas)\n",
        "\n",
        "# modificar un elemento\n",
        "frutas['cereza'] = 100\n",
        "print(frutas)\n",
        "\n",
        "# eliminar un elemento\n",
        "del frutas['cereza']\n",
        "print(frutas)\n",
        "\n",
        "# consultar valor dada una clave\n",
        "print(\"el valor de manzana es : ' frutas['manzana\")\n"
      ]
    }
  ]
}